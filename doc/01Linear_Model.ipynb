{
 "cells": [
  {
   "cell_type": "markdown",
   "metadata": {},
   "source": [
    "# 01Linear Model"
   ]
  },
  {
   "cell_type": "markdown",
   "metadata": {},
   "source": [
    "## 1.基本形式"
   ]
  },
  {
   "cell_type": "markdown",
   "metadata": {},
   "source": [
    "线性模型（linear model）试图学得一个通过属性的线性组合来进行预测的函数，即\n",
    "$$f(x) = w_1 x_1 + w_2 x_2 + \\dots + w_d x_d + b$$\n",
    "\n",
    "一般向量形式：\n",
    "$$f(x) = w^Tx + b$$"
   ]
  },
  {
   "cell_type": "markdown",
   "metadata": {},
   "source": [
    "## 2.线性回归 Linear Regression"
   ]
  },
  {
   "cell_type": "markdown",
   "metadata": {},
   "source": [
    "线性回归试图学到$f(x_i)= w x_i + b$,使得$f(x_i) \\approx y_i$\n",
    "\n",
    "则Loss为 \n",
    "$$(w^*, b^*) =\\operatorname*{\\arg\\min}_{(w, b)}\\,\\sum\\limits\\limits_{i=1}^{m}(f(x_i) - y_i)^2 $$\n",
    "$$(w^*, b^*) =\\operatorname*{\\arg\\min}_{(w, b)}\\,\\sum\\limits_{i=1}^{m}(wx_i + b - y_i)^2 $$\n",
    "利用最小二乘法求解：它通过最小化误差的平方和寻找数据的最佳函数匹配。利用最小二乘法可以简便地求得未知的数据，并使得这些求得的数据与实际数据之间误差的平方和为最小。在线性回归中，最小二乘法就是试图找到一条直线，使所有样本到直线上的欧氏距离最小\n",
    "\n",
    "$$ \\frac{\\partial E_{(w,b)}}{\\partial w} = 2 (w \\sum\\limits_{i=1}^m x_i^2 - \\sum\\limits_{i=1}^m(y_i - b)x_i) $$\n",
    "\n",
    "$$ \\frac{\\partial E_{(w,b)}}{\\partial b} = 2 (mb - \\sum\\limits_{i=1}^m(y_i - w x_i)) $$\n",
    "令上式分别为0，可得$w$和$b$的最优解：\n",
    "\n",
    "$$w = \\frac{\\sum\\limits_{i=1}^m y_i(x_i - \\bar x)}{\\sum\\limits_{i=1}^m x_2 - \\frac{1}{m}(\\sum\\limits_{i=1}^m x_i)^2}$$\n",
    "$$b = \\frac{1}{m}\\sum\\limits_{i=1}^m (y_i - w x_i)$$\n",
    "其中$\\bar x = \\frac{1}{m} \\sum\\limits_{i=1}^m x_i$\n",
    "### 多元线性回归（multivariate linear regression）\n",
    "同理对于数据集D，样本由d个属性描述。此时，我们试图学得\n",
    "$$f(x_i) = w^T x_i + b 使得 f(x_i) \\approx y_i$$\n",
    "其中$\\hat{w}= (w;b)$相应的把D表示为一个$m*(d+1)$大小的矩阵X\n",
    "$$X = \\begin{pmatrix} x_1^T & 1 \\\\ x_2^T & 1 \\\\ \\vdots & \\vdots \\\\ x_m^T & 1 \\end{pmatrix} $$\n",
    "同时将标记向量形式$y = (y_1;y_2;\\dots ;y_m)$则有\n",
    "\n",
    "$$\\hat{w}^* = \\operatorname*{\\arg\\min}_{\\hat w}\\,(y - X\\hat w)^T(y - X \\hat w)$$\n",
    "\n",
    "令$E_{\\hat w}=(y - X\\hat w)^T(y - X\\hat w)$,对\\hat w求导得：\n",
    "\n",
    "$$ \\frac{\\partial E_{\\hat w}}{\\partial \\hat w} = 2 X^T(X\\hat w - y)$$\n",
    "\n",
    "当$XX^T$为满秩矩阵或正定矩阵时，令上式为0可得$w_* = (X^TX)^{-1}X^Ty$,则多元线性回归模型为\n",
    "\n",
    "$$f(x_i) = \\hat x_i^{T}(X^T X)^{-1}X^T y$$\n",
    "\n",
    "但是实际中$X^T X$往往不是满秩矩阵，例如在变量数会多于样例数，导致X的行数多于列数。此时可解出多个$\\hat w$,选择哪一个，\n",
    "则由模型偏好选出，常见做法是使用正则化。"
   ]
  },
  {
   "cell_type": "markdown",
   "metadata": {},
   "source": [
    "## linear regression 手动实现"
   ]
  },
  {
   "cell_type": "code",
   "execution_count": 1,
   "metadata": {},
   "outputs": [
    {
     "name": "stdout",
     "output_type": "stream",
     "text": [
      "1.2.0\n"
     ]
    }
   ],
   "source": [
    "# import packages and modules\n",
    "%matplotlib inline\n",
    "import torch\n",
    "from IPython import display\n",
    "from matplotlib import pyplot as plt\n",
    "import numpy as np\n",
    "import random\n",
    "\n",
    "print(torch.__version__)"
   ]
  },
  {
   "cell_type": "markdown",
   "metadata": {},
   "source": [
    "### 生成数据集\n",
    "$$price = w_{area}area + w_{age}age + b$$"
   ]
  },
  {
   "cell_type": "code",
   "execution_count": 2,
   "metadata": {},
   "outputs": [],
   "source": [
    "# set input feature number\n",
    "num_inputs = 2\n",
    "# set example number\n",
    "num_examples = 1000\n",
    "\n",
    "# set true weight and bias in order to generate corresponded label\n",
    "true_w = [2, -3.4]\n",
    "true_b = 4.2\n",
    "\n",
    "features = torch.randn(num_examples, num_inputs, dtype=torch.float32)\n",
    "labels = true_w[0] * features[:, 0] + true_w[1] * features[:, 1] + true_b\n",
    "labels += torch.tensor(np.random.normal(0, 0.01, size=labels.size()), dtype=torch.float32)"
   ]
  },
  {
   "cell_type": "code",
   "execution_count": 3,
   "metadata": {},
   "outputs": [
    {
     "data": {
      "text/plain": [
       "<matplotlib.collections.PathCollection at 0x2ca236d8508>"
      ]
     },
     "execution_count": 3,
     "metadata": {},
     "output_type": "execute_result"
    },
    {
     "data": {
      "image/png": "[encoded data removed]",
      "text/plain": [
       "<Figure size 432x288 with 1 Axes>"
      ]
     },
     "metadata": {
      "needs_background": "light"
     },
     "output_type": "display_data"
    }
   ],
   "source": [
    "plt.scatter(features[:, 1].numpy(), labels.numpy(), 1)"
   ]
  },
  {
   "cell_type": "markdown",
   "metadata": {},
   "source": [
    "### 读取数据集"
   ]
  },
  {
   "cell_type": "code",
   "execution_count": 4,
   "metadata": {},
   "outputs": [],
   "source": [
    "def data_iter(batch_size, features, labels):\n",
    "    num_examples = len(features)\n",
    "    indices = list(range(num_examples))\n",
    "    random.shuffle(indices)\n",
    "    for i in range(0, num_examples, batch_size):\n",
    "        j = torch.LongTensor(indices[i: min(i + batch_size, num_examples)])\n",
    "        yield features.index_select(0, j), labels.index_select(0, j)"
   ]
  },
  {
   "cell_type": "code",
   "execution_count": 5,
   "metadata": {},
   "outputs": [
    {
     "name": "stdout",
     "output_type": "stream",
     "text": [
      "tensor([[-1.4323,  0.4476],\n",
      "        [ 0.7059,  0.9744],\n",
      "        [ 1.5117,  0.9684],\n",
      "        [-0.9582, -1.3797],\n",
      "        [-0.6680,  1.6117],\n",
      "        [ 0.8260, -0.1680],\n",
      "        [-0.6586, -0.7727],\n",
      "        [-0.3681,  0.3230],\n",
      "        [ 1.2673, -0.6125],\n",
      "        [ 0.7261, -0.3756]]) \n",
      " tensor([-0.2016,  2.2850,  3.9416,  6.9666, -2.6326,  6.4188,  5.5109,  2.3762,\n",
      "         8.8051,  6.9348])\n"
     ]
    }
   ],
   "source": [
    "batch_size = 10\n",
    "\n",
    "for X, y in data_iter(batch_size, features, labels):\n",
    "    print(X, '\\n', y)\n",
    "    break"
   ]
  },
  {
   "cell_type": "markdown",
   "metadata": {},
   "source": [
    "### 初始化模型参数"
   ]
  },
  {
   "cell_type": "code",
   "execution_count": 6,
   "metadata": {},
   "outputs": [
    {
     "data": {
      "text/plain": [
       "tensor([0.], requires_grad=True)"
      ]
     },
     "execution_count": 6,
     "metadata": {},
     "output_type": "execute_result"
    }
   ],
   "source": [
    "w = torch.tensor(np.random.normal(0, 0.01, (num_inputs, 1)), dtype=torch.float32)\n",
    "b = torch.zeros(1, dtype=torch.float32)\n",
    "\n",
    "w.requires_grad_(requires_grad=True)\n",
    "b.requires_grad_(requires_grad=True)"
   ]
  },
  {
   "cell_type": "markdown",
   "metadata": {},
   "source": [
    "### 定义模型\n",
    "定义用来训练参数的训练模型：\n",
    "$$price = w_{area}area + w_{age}age + b$$"
   ]
  },
  {
   "cell_type": "code",
   "execution_count": 7,
   "metadata": {},
   "outputs": [],
   "source": [
    "def linear_regression(X, w, b):\n",
    "    return torch.mm(X, w) + b"
   ]
  },
  {
   "cell_type": "markdown",
   "metadata": {},
   "source": [
    "### 定义损失函数(MSE均方误差)\n",
    "$$l^{(i)}(w,b)=\\frac{1}{2}(\\hat y^{(i)} - y^{(i)})^2$$"
   ]
  },
  {
   "cell_type": "code",
   "execution_count": 8,
   "metadata": {},
   "outputs": [],
   "source": [
    "def MSE_loss(y_pred, y):\n",
    "    return pow((y_pred - y.view(y_pred.size())), 2) / 2"
   ]
  },
  {
   "cell_type": "markdown",
   "metadata": {},
   "source": [
    "### 定义优化函数\n",
    "minbatchGD：\n",
    "$$(w, b) \\gets (w,b) - \\frac{\\eta}{|\\beta|}\\sum_{i \\epsilon \\beta} \\partial (w,b)l^{(i)}(w,b) $$"
   ]
  },
  {
   "cell_type": "code",
   "execution_count": 9,
   "metadata": {},
   "outputs": [],
   "source": [
    "def minbatchGD(params, lr, batch_size):\n",
    "    for param in params:\n",
    "        param.data -= lr * param.grad / batch_size"
   ]
  },
  {
   "cell_type": "markdown",
   "metadata": {},
   "source": [
    "### 训练"
   ]
  },
  {
   "cell_type": "code",
   "execution_count": 10,
   "metadata": {},
   "outputs": [
    {
     "name": "stdout",
     "output_type": "stream",
     "text": [
      "epoch 1, loss 0.043652\n",
      "epoch 2, loss 0.000175\n",
      "epoch 3, loss 0.000054\n",
      "epoch 4, loss 0.000054\n",
      "epoch 5, loss 0.000054\n"
     ]
    }
   ],
   "source": [
    "lr = 0.03\n",
    "num_epochs = 5\n",
    "\n",
    "net = linear_regression\n",
    "loss = MSE_loss\n",
    "\n",
    "for epoch in range(num_epochs):\n",
    "    for X, y in data_iter(batch_size, features, labels):\n",
    "        l = loss(net(X, w, b), y).sum()\n",
    "        l.backward()\n",
    "        minbatchGD([w, b], lr, batch_size)\n",
    "        # reset parameter gradient\n",
    "        w.grad.data.zero_()\n",
    "        b.grad.data.zero_()\n",
    "    train_l = loss(net(features, w, b), labels)\n",
    "    print('epoch %d, loss %f' % (epoch + 1, train_l.mean().item()))"
   ]
  },
  {
   "cell_type": "code",
   "execution_count": 11,
   "metadata": {},
   "outputs": [
    {
     "data": {
      "text/plain": [
       "(tensor([[ 2.0001],\n",
       "         [-3.3996]], requires_grad=True),\n",
       " [2, -3.4],\n",
       " tensor([4.1994], requires_grad=True),\n",
       " 4.2)"
      ]
     },
     "execution_count": 11,
     "metadata": {},
     "output_type": "execute_result"
    }
   ],
   "source": [
    "w, true_w, b, true_b"
   ]
  },
  {
   "cell_type": "code",
   "execution_count": null,
   "metadata": {},
   "outputs": [],
   "source": []
  }
 ],
 "metadata": {
  "kernelspec": {
   "display_name": "Python 3",
   "language": "python",
   "name": "python3"
  },
  "language_info": {
   "codemirror_mode": {
    "name": "ipython",
    "version": 3
   },
   "file_extension": ".py",
   "mimetype": "text/x-python",
   "name": "python",
   "nbconvert_exporter": "python",
   "pygments_lexer": "ipython3",
   "version": "3.7.6"
  },
  "pycharm": {
   "stem_cell": {
    "cell_type": "raw",
    "metadata": {
     "collapsed": false
    },
    "source": []
   }
  }
 },
 "nbformat": 4,
 "nbformat_minor": 2
}
