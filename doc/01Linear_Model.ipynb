{
 "cells": [
  {
   "cell_type": "markdown",
   "metadata": {},
   "source": [
    "# 01Linear Model"
   ]
  },
  {
   "cell_type": "markdown",
   "metadata": {},
   "source": [
    "## 1.基本形式"
   ]
  },
  {
   "cell_type": "markdown",
   "metadata": {},
   "source": [
    "线性模型（linear model）试图学得一个通过属性的线性组合来进行预测的函数，即\n",
    "$$f(x) = w_1 x_1 + w_2 x_2 + \\dots + w_d x_d + b$$\n",
    "\n",
    "一般向量形式：\n",
    "$$f(x) = w^Tx + b$$"
   ]
  },
  {
   "cell_type": "markdown",
   "metadata": {},
   "source": [
    "## 2.线性回归 Linear Regression"
   ]
  },
  {
   "cell_type": "markdown",
   "metadata": {},
   "source": [
    "线性回归试图学到$f(x_i)= w x_i + b$,使得$f(x_i) \\approx y_i$\n",
    "\n",
    "则Loss为 \n",
    "$$(w^*, b^*) =\\operatorname*{\\arg\\min}_{(w, b)}\\,\\sum_{i=1}^{m}(f(x_i) - y_i)^2 $$\n",
    "$$(w^*, b^*) =\\operatorname*{\\arg\\min}_{(w, b)}\\,\\sum_{i=1}^{m}(wx_i + b - y_i)^2 $$\n",
    "利用最小二乘法求解：它通过最小化误差的平方和寻找数据的最佳函数匹配。利用最小二乘法可以简便地求得未知的数据，并使得这些求得的数据与实际数据之间误差的平方和为最小。在线性回归中，最小二乘法就是试图找到一条直线，使所有样本到直线上的欧氏距离最小\n",
    "\n",
    "$$ \\frac{\\partial E_{(w,b)}}{\\partial w} = 2 (w \\sum_{i=1}^m x_i^2 - \\sum_{i=1}^m(y_i - b)x_i) $$\n",
    "\n",
    "$$ \\frac{\\partial E_{(w,b)}}{\\partial b} = 2 (mb - \\sum_{i=1}^m(y_i - w x_i)) $$\n",
    "令上式分别为0，可得$w$和$b$的最优解：\n",
    "\n",
    "$$w = \\frac{\\sum_{i=1}^m y_i(x_i - \\bar x)}{\\sum_{i=1}^m x_2 - \\frac{1}{m}(\\sum_{i=1}^m x_i)^2}$$\n",
    "$$b = \\frac{1}{m}\\sum_{i=1}^m (y_i - w x_i)$$\n",
    "其中$\\bar x = \\frac{1}{m} \\sum_{i=1}^m x_i$"
   ]
  },
  {
   "cell_type": "code",
   "execution_count": null,
   "metadata": {},
   "outputs": [],
   "source": []
  }
 ],
 "metadata": {
  "kernelspec": {
   "display_name": "Python 3",
   "language": "python",
   "name": "python3"
  },
  "language_info": {
   "codemirror_mode": {
    "name": "ipython",
    "version": 3
   },
   "file_extension": ".py",
   "mimetype": "text/x-python",
   "name": "python",
   "nbconvert_exporter": "python",
   "pygments_lexer": "ipython3",
   "version": "3.7.6"
  },
  "pycharm": {
   "stem_cell": {
    "cell_type": "raw",
    "source": [],
    "metadata": {
     "collapsed": false
    }
   }
  }
 },
 "nbformat": 4,
 "nbformat_minor": 2
}