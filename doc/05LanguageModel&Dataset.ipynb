{
 "cells": [
  {
   "cell_type": "markdown",
   "metadata": {},
   "source": [
    "# 语言模型及数据集\n",
    "自然语言文本可以看作一个离散的时间序列，语言模型的目标就是评估该序列是否合理，即计算该序列的概率：\n",
    "$$P(w_1, w_2, \\dots, w_T)$$"
   ]
  },
  {
   "cell_type": "markdown",
   "metadata": {
    "pycharm": {
     "name": "#%% md\n"
    }
   },
   "source": [
    "## 语言模型\n",
    "假设序列中每个词是依次生成的，我们有\n",
    "\n",
    "\\begin{aligned}\n",
    "P(w_1, w_2, \\dots, w_T) &= \\prod_{t=1}^T P(w_t|w_1, \\dot, w_{t-1}) \\\\\n",
    "  &= P(w_1)P(w_2 | w_1) \\dots P(w_T|w_1 w_2 \\dots w_{t -1})\n",
    "\\end{aligned}\n",
    "\n",
    "$$\\hat P(w_1) = \\frac{n(w_1)}{n}$$\n",
    "\n",
    "其中$n(w_1)是w_1$作为第一个词的文本数量，$n$是文本总数量。同理：\n",
    "\n",
    "$$\\hat P(w_2|w_1) = \\frac{n(w_1, w_2)}{w_1}$$"
   ]
  },
  {
   "cell_type": "markdown",
   "metadata": {},
   "source": [
    "### n-grams\n",
    "马尔可夫假设是指一个词的出现只与前面n个词相关，即n阶马尔科夫链(Markov chain of order n),如果$n = 1$, \n",
    "则$P(w_3 | w_1, w_2) = P(w_3 | w_2)$。\n",
    "基于$n -1$阶马尔科夫链，则语言模型为\n",
    "\n",
    "$$P(w_1, w_2, \\dots, w_T) = \\prod_{t=1}^T P(w_t | w_{t-(n-1), \\dots, w_{t-1}})$$\n",
    "当n分别为1，2，3时，分别称作一元（unigram）,二元（bigram）,三元（trigram）其概率分别为\n",
    "$$P(w_1, w_2, \\dots, w_T) = P(w_1)P(w_2)P(w_3)P(w_4))$$\n",
    "$$P(w_1, w_2, \\dots, w_T) = P(w_1)P(w_2|w_1)P(w_3|w_2)P(w_4|w_3))$$\n",
    "$$P(w_1, w_2, \\dots, w_T) = P(w_1)P(w_2|w_1)P(w_3|w_2, w_1)P(w_4|w_3, w_2))$$\n",
    "思考：n元语法可能的缺陷？\n",
    "- 参数空间过大\n",
    "- 数据稀疏"
   ]
  },
  {
   "cell_type": "markdown",
   "metadata": {},
   "source": [
    "## 语言模型数据集"
   ]
  },
  {
   "cell_type": "markdown",
   "metadata": {},
   "source": [
    "### 读取数据集\n",
    "\\data\\05jaychou_lyrics.txt"
   ]
  },
  {
   "cell_type": "code",
   "execution_count": 1,
   "metadata": {},
   "outputs": [],
   "source": [
    "import os\n",
    "import sys\n",
    "BASE_DIR = os.path.dirname(os.getcwd())\n",
    "sys.path.insert(0, os.path.join(BASE_DIR))\n",
    "print(BASE_DIR)"
   ]
  },
  {
   "cell_type": "code",
   "execution_count": 2,
   "metadata": {},
   "outputs": [],
   "source": [
    "with open(os.path.join(BASE_DIR,\"data\",\"05jaychou_lyrics.txt\"), encoding='utf-8') as f:\n",
    "    corpus_chars = f.read()\n",
    "print(len(corpus_chars))\n",
    "print(corpus_chars[: 40])\n",
    "corpus_chars = corpus_chars.replace('\\n', ' ').replace('\\r', ' ')\n",
    "corpus_chars = corpus_chars[: 10000]"
   ]
  },
  {
   "cell_type": "markdown",
   "metadata": {},
   "source": [
    "### 建立字符索引"
   ]
  },
  {
   "cell_type": "code",
   "execution_count": 3,
   "metadata": {},
   "outputs": [
    {
     "name": "stdout",
     "output_type": "stream",
     "text": [
      "1027\n"
     ]
    }
   ],
   "source": [
    "idx_to_char = list(set(corpus_chars)) # 去重，list索引即为字符索引\n",
    "char_to_idx = {char: i for i, char in enumerate(idx_to_char)} # 字符到索引的映射\n",
    "vocab_size = len(char_to_idx)\n",
    "print(vocab_size)"
   ]
  },
  {
   "cell_type": "code",
   "execution_count": 4,
   "metadata": {},
   "outputs": [
    {
     "name": "stdout",
     "output_type": "stream",
     "text": [
      "chars: 想要有直升机 想要和你飞到宇宙去 想要和\n",
      "indices [864, 189, 703, 389, 399, 274, 102, 864, 189, 184, 783, 746, 742, 220, 152, 342, 102, 864, 189, 184]\n"
     ]
    }
   ],
   "source": [
    "corpus_indices = [char_to_idx[char] for char in corpus_chars]\n",
    "sample = corpus_indices[:20]\n",
    "print('chars:', ''.join([idx_to_char[idx] for idx in sample]))\n",
    "print(\"indices\", sample)"
   ]
  },
  {
   "cell_type": "markdown",
   "metadata": {},
   "source": [
    "### 时序数据的采样\n",
    "随机采样 和 相邻采样"
   ]
  },
  {
   "cell_type": "markdown",
   "metadata": {},
   "source": [
    "#### 随机采样"
   ]
  },
  {
   "cell_type": "code",
   "execution_count": 5,
   "metadata": {},
   "outputs": [],
   "source": [
    "import torch\n",
    "import random\n",
    "def data_iter_random(corpus_indices, batch_size, num_steps, device=None):\n",
    "    num_examples = (len(corpus_indices) - 1) // num_steps\n",
    "    example_indices = [i * num_steps for i in range(num_examples)]\n",
    "    random.shuffle(example_indices)\n",
    "    \n",
    "    def _data(i):\n",
    "        return corpus_indices[i: i+num_steps]\n",
    "    if device is None:\n",
    "        device = torch.device('cuda' if torch.cuda.is_available() else 'cpu')\n",
    "        \n",
    "    for i in range(0, num_examples, batch_size):\n",
    "        batch_indices = example_indices[i: i+ batch_size]\n",
    "        X = [_data(j) for j in batch_indices]\n",
    "        Y = [_data(j + 1) for j in batch_indices]\n",
    "        yield torch.tensor(X, device=device), torch.tensor(Y, device=device)"
   ]
  },
  {
   "cell_type": "code",
   "execution_count": 9,
   "metadata": {},
   "outputs": [
    {
     "name": "stdout",
     "output_type": "stream",
     "text": [
      "X:  tensor([[0, 1, 2, 3, 4, 5]], device='cuda:0') \n",
      "Y: tensor([[1, 2, 3, 4, 5, 6]], device='cuda:0') \n",
      "\n"
     ]
    }
   ],
   "source": [
    "my_seq = list(range(10))\n",
    "for X, Y in data_iter_random(my_seq, batch_size=2, num_steps=6):\n",
    "    print('X: ', X, '\\nY:', Y, '\\n')"
   ]
  },
  {
   "cell_type": "markdown",
   "metadata": {},
   "source": [
    "### 相邻采样"
   ]
  },
  {
   "cell_type": "code",
   "execution_count": 10,
   "metadata": {},
   "outputs": [],
   "source": [
    "def data_iter_consecutive(corpus_indices, batch_size, num_steps, device=None):\n",
    "    if device is None:\n",
    "        device = torch.device('cuda' if torch.cuda.is_available() else 'cpu')\n",
    "    corpus_len = len(corpus_indices) // batch_size * batch_size  # 保留下来的序列的长度\n",
    "    corpus_indices = corpus_indices[: corpus_len]  # 仅保留前corpus_len个字符\n",
    "    indices = torch.tensor(corpus_indices, device=device)\n",
    "    indices = indices.view(batch_size, -1)  # resize成(batch_size, )\n",
    "    batch_num = (indices.shape[1] - 1) // num_steps\n",
    "    for i in range(batch_num):\n",
    "        i = i * num_steps\n",
    "        X = indices[:, i: i + num_steps]\n",
    "        Y = indices[:, i + 1: i + num_steps + 1]\n",
    "        yield X, Y"
   ]
  },
  {
   "cell_type": "code",
   "execution_count": 11,
   "metadata": {},
   "outputs": [
    {
     "name": "stdout",
     "output_type": "stream",
     "text": [
      "X:  tensor([[0, 1],\n",
      "        [5, 6]], device='cuda:0') \n",
      "Y: tensor([[1, 2],\n",
      "        [6, 7]], device='cuda:0') \n",
      "\n",
      "X:  tensor([[2, 3],\n",
      "        [7, 8]], device='cuda:0') \n",
      "Y: tensor([[3, 4],\n",
      "        [8, 9]], device='cuda:0') \n",
      "\n"
     ]
    }
   ],
   "source": [
    "for X, Y in data_iter_consecutive(my_seq, batch_size=2, num_steps=2):\n",
    "    print('X: ', X, '\\nY:', Y, '\\n')"
   ]
  },
  {
   "cell_type": "code",
   "execution_count": null,
   "metadata": {},
   "outputs": [],
   "source": []
  }
 ],
 "metadata": {
  "kernelspec": {
   "display_name": "Python 3",
   "language": "python",
   "name": "python3"
  },
  "language_info": {
   "codemirror_mode": {
    "name": "ipython",
    "version": 3
   },
   "file_extension": ".py",
   "mimetype": "text/x-python",
   "name": "python",
   "nbconvert_exporter": "python",
   "pygments_lexer": "ipython3",
   "version": "3.7.6"
  },
  "pycharm": {
   "stem_cell": {
    "cell_type": "raw",
    "metadata": {
     "collapsed": false
    },
    "source": []
   }
  }
 },
 "nbformat": 4,
 "nbformat_minor": 2
}
